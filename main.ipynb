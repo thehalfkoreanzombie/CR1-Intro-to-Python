{
 "cells": [
  {
   "cell_type": "markdown",
   "metadata": {},
   "source": [
    "1. A function called fourth_place() that takes a list as an argument.\n",
    "\n",
    "fourth_place() should return the fourth item in the list\n",
    "Use try/except to catch IndexErrors"
   ]
  },
  {
   "cell_type": "code",
   "execution_count": 7,
   "metadata": {},
   "outputs": [
    {
     "name": "stdout",
     "output_type": "stream",
     "text": [
      "MMA\n",
      "There are less than four items in this list\n"
     ]
    }
   ],
   "source": [
    "four_list = [\"bowling\", \"tennis\", \"golf\", \"MMA\"] #try list\n",
    "three_list = [\"basketball\", \"football\", \"baseball\"] #except list\n",
    "\n",
    "def fourth_place(list1): #defining function to check fourth item\n",
    "    try: #used try/except to make sure there were four items in the list \n",
    "        return list1[3] #print item at index 3\n",
    "    except: #if there are less than four items, exception occurs\n",
    "        return f\"There are less than four items in this list\" #f string telling user the situation\n",
    "\n",
    "print(fourth_place(four_list))\n",
    "print(fourth_place(three_list))\n",
    "            "
   ]
  }
 ],
 "metadata": {
  "kernelspec": {
   "display_name": "venv",
   "language": "python",
   "name": "python3"
  },
  "language_info": {
   "codemirror_mode": {
    "name": "ipython",
    "version": 3
   },
   "file_extension": ".py",
   "mimetype": "text/x-python",
   "name": "python",
   "nbconvert_exporter": "python",
   "pygments_lexer": "ipython3",
   "version": "3.11.5"
  }
 },
 "nbformat": 4,
 "nbformat_minor": 2
}
