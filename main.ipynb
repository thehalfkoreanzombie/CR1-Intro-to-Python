{
 "cells": [
  {
   "cell_type": "markdown",
   "metadata": {},
   "source": [
    "1. A function called fourth_place() that takes a list as an argument.\n",
    "\n",
    "fourth_place() should return the fourth item in the list\n",
    "Use try/except to catch IndexErrors"
   ]
  },
  {
   "cell_type": "code",
   "execution_count": 34,
   "metadata": {},
   "outputs": [
    {
     "name": "stdout",
     "output_type": "stream",
     "text": [
      "MMA\n",
      "There are less than four items in this list\n"
     ]
    }
   ],
   "source": [
    "four_list = [\"bowling\", \"tennis\", \"golf\", \"MMA\"] #try list\n",
    "three_list = [\"basketball\", \"football\", \"baseball\"] #except list\n",
    "\n",
    "def fourth_place(test_list): #defining function to check fourth item\n",
    "    \"\"\"return the fourth item in a list if possible\n",
    "    \n",
    "        Args:\n",
    "            test list (list): A list of strings (or an empty list)\n",
    "        \n",
    "        Returns:\n",
    "            str telling you the list has less than four items\n",
    "            or the fourth item in the list.\n",
    "    \"\"\"\n",
    "    try: #used try/except to make sure there were four items in the list \n",
    "        return test_list[3] #print item at index 3\n",
    "    except: #if there are less than four items, exception occurs\n",
    "        return f\"There are less than four items in this list\" #f string telling user the situation\n",
    "\n",
    "print(fourth_place(four_list))\n",
    "print(fourth_place(three_list))\n",
    "            "
   ]
  },
  {
   "cell_type": "markdown",
   "metadata": {},
   "source": [
    "2. A function called dict_sayer() that takes a dictionary as an argument.\n",
    "\n",
    "dict_sayer() should check whether the dictionary is empty (i.e. an empty dictionary looks like this: `{}`)\n",
    "\n",
    "\n",
    "If the dictionary isn't empty (i.e. there are one or more items in it):\n",
    "print a string for each item saying the name of each key and its value\n",
    "return the Boolean True\n",
    "If the dictionary is empty:\n",
    "print a string saying that the dictionary is empty\n",
    "return the Boolean False\n"
   ]
  },
  {
   "cell_type": "code",
   "execution_count": 35,
   "metadata": {},
   "outputs": [
    {
     "name": "stdout",
     "output_type": "stream",
     "text": [
      "This dictionary is empty\n",
      "False\n",
      "The value for the key hammer is 1\n",
      "The value for the key wrench is 2\n",
      "The value for the key anvil is 3\n",
      "True\n"
     ]
    }
   ],
   "source": [
    "empty_dict = {} #empty dictionary\n",
    "full_dict = {\"hammer\": 1, \"wrench\": 2, \"anvil\": 3} #dictionary with items\n",
    "\n",
    "def dict_sayer(dict1):\n",
    "    \"\"\"Checks if a dictionary is empty, and if not, gives you a string with the key and value of each item\n",
    "        \n",
    "        Args:\n",
    "            dict1 (dictionary): A dictionary that is either empty or not.\n",
    "        \n",
    "        Returns:\n",
    "            str telling you the dictionary is empty\n",
    "            or str telling you the key and value for each item in dictionary.\n",
    "    \"\"\" \n",
    "    if len(dict1) == 0: #checking to see if list is empty or not\n",
    "        print(\"This dictionary is empty\") #printed string to tell user list is empty\n",
    "        return False #return boolean False\n",
    "    for k, v in dict1.items(): #looking at keys and values for each item\n",
    "        print(f\"The value for the key {k} is {v}\") #printed string stating value that goes with each key\n",
    "    return True #return boolean True\n",
    "\n",
    "print(dict_sayer(empty_dict))\n",
    "print(dict_sayer(full_dict))"
   ]
  },
  {
   "cell_type": "markdown",
   "metadata": {},
   "source": [
    "3. Write a function called galaxy(). galaxy() should take:\n",
    "\n",
    "a positional argument of the user's home planet, followed by\n",
    "a varying number of arguments (**args), and\n",
    "a keyword argument of pluto_is_planet, which defaults to a Boolean of your choice.\n",
    "galaxy() should put all the arguments into a string, and return that string.\n",
    "\n",
    "Below the function definition, call galaxy(). For the varying number of arguments, name as many planets as you can."
   ]
  },
  {
   "cell_type": "code",
   "execution_count": 36,
   "metadata": {},
   "outputs": [
    {
     "name": "stdout",
     "output_type": "stream",
     "text": [
      "Your home planet is Earth. Some planets in your solar system are ('Mercury', 'Venus', 'Mars', 'Jupiter', 'Saturn', 'Uranus', 'Neptune', 'Pluto'), and you believe pluto is a planet.\n",
      "Your home planet is Earth. Some planets in your solar system are ('Mercury', 'Venus', 'Mars', 'Jupiter', 'Saturn', 'Uranus', 'Neptune'), and you do not believe pluto is a planet.\n"
     ]
    }
   ],
   "source": [
    "def galaxy(home, *planets, **pluto_is_planet): #function using positional argument, *args and **kwargs\n",
    "    \"\"\"Tells user their home planet, the planets in their solar system, and whether or not they believe Pluto is a planet.\n",
    "    \n",
    "        Args:\n",
    "            home (positional): The user's home planet.\n",
    "            *planets (args): A varying number of planets\n",
    "            **pluto_is_planet (kwargs): keyword argument that takes Boolean and changes resulting string based on answer\n",
    "            \n",
    "        Returns:\n",
    "            str telling user their home planet, a varying number of planets, and whether or not they believe pluto is a planet \n",
    "    \"\"\"\n",
    "    if pluto_is_planet['true_or_false'] == True: #if statement for when kwarg boolean = true\n",
    "        print(f\"Your home planet is {home}. Some planets in your solar system are {planets}, and you believe pluto is a planet.\") #string with all results if pluto_is_planet is true\n",
    "    else: #else statement for when kwarg boolean is not true\n",
    "        print(f\"Your home planet is {home}. Some planets in your solar system are {planets}, and you do not believe pluto is a planet.\") #string with all results if pluto_is_planet is false\n",
    "\n",
    "galaxy(\"Earth\", \"Mercury\", \"Venus\", \"Mars\", \"Jupiter\", \"Saturn\", \"Uranus\", \"Neptune\", \"Pluto\", true_or_false=True)\n",
    "galaxy(\"Earth\", \"Mercury\", \"Venus\", \"Mars\", \"Jupiter\", \"Saturn\", \"Uranus\", \"Neptune\", true_or_false=False)"
   ]
  },
  {
   "cell_type": "markdown",
   "metadata": {},
   "source": [
    "4. Include a docstring for each of the functions above."
   ]
  },
  {
   "cell_type": "markdown",
   "metadata": {},
   "source": [
    "5. Define a class called `Cat`. `Cat` should have:\n",
    "\n",
    "An attribute of `color`\n",
    "An attribute of `name`\n",
    "A method called `meow` that prints “Mmmrreow!”\n",
    "\n",
    "6. Create a cat instance, and use dot notation to show its name.\n",
    "\n",
    "7. Create a second cat instance, and use dot notation to call its meow method.\n"
   ]
  },
  {
   "cell_type": "code",
   "execution_count": 32,
   "metadata": {},
   "outputs": [
    {
     "name": "stdout",
     "output_type": "stream",
     "text": [
      "Max\n",
      "Mmmrreow!\n"
     ]
    }
   ],
   "source": [
    "class Cat: #defined the class 'Cat' \n",
    "    def __init__(self, color, name): #syntax for establishing a class with attributes color and name\n",
    "        self.color = color #tying self to color\n",
    "        self.name = name #tying self to name\n",
    "\n",
    "    def meow(self): #method for 'Cat' Class\n",
    "        print(f\"Mmmrreow!\")\n",
    "\n",
    "max_cat = Cat(\"Black\", \"Max\") #first instance of cat class\n",
    "print(max_cat.name) #print max_cat's name\n",
    "\n",
    "felicia_cat = Cat(\"Red\", \"Felicia\") #second instance of cat class\n",
    "felicia_cat.meow() #using method for class on this instance"
   ]
  }
 ],
 "metadata": {
  "kernelspec": {
   "display_name": "venv",
   "language": "python",
   "name": "python3"
  },
  "language_info": {
   "codemirror_mode": {
    "name": "ipython",
    "version": 3
   },
   "file_extension": ".py",
   "mimetype": "text/x-python",
   "name": "python",
   "nbconvert_exporter": "python",
   "pygments_lexer": "ipython3",
   "version": "3.11.5"
  }
 },
 "nbformat": 4,
 "nbformat_minor": 2
}
