{
 "cells": [
  {
   "cell_type": "markdown",
   "metadata": {},
   "source": [
    "1. A function called fourth_place() that takes a list as an argument.\n",
    "\n",
    "fourth_place() should return the fourth item in the list\n",
    "Use try/except to catch IndexErrors"
   ]
  },
  {
   "cell_type": "code",
   "execution_count": 9,
   "metadata": {},
   "outputs": [
    {
     "name": "stdout",
     "output_type": "stream",
     "text": [
      "MMA\n",
      "There are less than four items in this list\n"
     ]
    }
   ],
   "source": [
    "four_list = [\"bowling\", \"tennis\", \"golf\", \"MMA\"] #try list\n",
    "three_list = [\"basketball\", \"football\", \"baseball\"] #except list\n",
    "\n",
    "def fourth_place(list1): #defining function to check fourth item\n",
    "    try: #used try/except to make sure there were four items in the list \n",
    "        return list1[3] #print item at index 3\n",
    "    except: #if there are less than four items, exception occurs\n",
    "        return f\"There are less than four items in this list\" #f string telling user the situation\n",
    "\n",
    "print(fourth_place(four_list))\n",
    "print(fourth_place(three_list))\n",
    "            "
   ]
  },
  {
   "cell_type": "markdown",
   "metadata": {},
   "source": [
    "2. A function called dict_sayer() that takes a dictionary as an argument.\n",
    "\n",
    "dict_sayer() should check whether the dictionary is empty (i.e. an empty dictionary looks like this: `{}`)\n",
    "\n",
    "\n",
    "If the dictionary isn't empty (i.e. there are one or more items in it):\n",
    "print a string for each item saying the name of each key and its value\n",
    "return the Boolean True\n",
    "If the dictionary is empty:\n",
    "print a string saying that the dictionary is empty\n",
    "return the Boolean False\n"
   ]
  },
  {
   "cell_type": "code",
   "execution_count": 58,
   "metadata": {},
   "outputs": [
    {
     "name": "stdout",
     "output_type": "stream",
     "text": [
      "This dictionary is empty\n",
      "False\n",
      "The value for the key hammer is 1\n",
      "The value for the key wrench is 2\n",
      "The value for the key anvil is 3\n",
      "True\n"
     ]
    }
   ],
   "source": [
    "empty_dict = {} #empty dictionary\n",
    "full_dict = {\"hammer\": 1, \"wrench\": 2, \"anvil\": 3} #dictionary with items\n",
    "\n",
    "def dict_sayer(dict1): \n",
    "    if len(dict1) == 0: #checking to see if list is empty or now\n",
    "        print(\"This dictionary is empty\") #printed string to tell user list is empty\n",
    "        return False #return boolean False\n",
    "    for k, v in dict1.items(): #looking at keys and values for each item\n",
    "        print(f\"The value for the key {k} is {v}\") #printed string stating value that goes with each key\n",
    "    return True #return boolean True\n",
    "\n",
    "print(dict_sayer(empty_dict))\n",
    "print(dict_sayer(full_dict))"
   ]
  }
 ],
 "metadata": {
  "kernelspec": {
   "display_name": "venv",
   "language": "python",
   "name": "python3"
  },
  "language_info": {
   "codemirror_mode": {
    "name": "ipython",
    "version": 3
   },
   "file_extension": ".py",
   "mimetype": "text/x-python",
   "name": "python",
   "nbconvert_exporter": "python",
   "pygments_lexer": "ipython3",
   "version": "3.11.5"
  }
 },
 "nbformat": 4,
 "nbformat_minor": 2
}
